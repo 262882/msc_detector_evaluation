{
 "cells": [
  {
   "cell_type": "markdown",
   "metadata": {},
   "source": [
    "# Evaluate a pretrained detector on custom coco style dataset"
   ]
  },
  {
   "cell_type": "code",
   "execution_count": 1,
   "metadata": {},
   "outputs": [
    {
     "ename": "ModuleNotFoundError",
     "evalue": "No module named 'PIL'",
     "output_type": "error",
     "traceback": [
      "\u001b[0;31m---------------------------------------------------------------------------\u001b[0m",
      "\u001b[0;31mModuleNotFoundError\u001b[0m                       Traceback (most recent call last)",
      "Cell \u001b[0;32mIn[1], line 1\u001b[0m\n\u001b[0;32m----> 1\u001b[0m \u001b[39mfrom\u001b[39;00m \u001b[39mPIL\u001b[39;00m \u001b[39mimport\u001b[39;00m Image\n\u001b[1;32m      2\u001b[0m \u001b[39mimport\u001b[39;00m \u001b[39mtorch\u001b[39;00m\n\u001b[1;32m      3\u001b[0m \u001b[39mimport\u001b[39;00m \u001b[39mjson\u001b[39;00m\n",
      "\u001b[0;31mModuleNotFoundError\u001b[0m: No module named 'PIL'"
     ]
    }
   ],
   "source": [
    "from PIL import Image\n",
    "import torch\n",
    "import json\n",
    "import numpy as np\n",
    "import cv2\n",
    "import torchvision.transforms.functional as F\n",
    "import os\n",
    "import sys\n",
    "from pycocotools.coco import COCO\n",
    "from pycocotools.cocoeval import COCOeval"
   ]
  },
  {
   "cell_type": "markdown",
   "metadata": {},
   "source": [
    "My imports"
   ]
  },
  {
   "cell_type": "code",
   "execution_count": null,
   "metadata": {},
   "outputs": [],
   "source": [
    "sys.path.append(os.path.join(sys.path[0], '../tooling/'))\n",
    "from myloader import CocoDetection"
   ]
  },
  {
   "cell_type": "markdown",
   "metadata": {},
   "source": [
    "### Prepare dataset"
   ]
  },
  {
   "cell_type": "markdown",
   "metadata": {},
   "source": [
    "Visualizing and verifying dataset"
   ]
  },
  {
   "cell_type": "code",
   "execution_count": null,
   "metadata": {},
   "outputs": [
    {
     "ename": "NameError",
     "evalue": "name 'os' is not defined",
     "output_type": "error",
     "traceback": [
      "\u001b[0;31m---------------------------------------------------------------------------\u001b[0m",
      "\u001b[0;31mNameError\u001b[0m                                 Traceback (most recent call last)",
      "Cell \u001b[0;32mIn[1], line 1\u001b[0m\n\u001b[0;32m----> 1\u001b[0m img_dir \u001b[39m=\u001b[39m os\u001b[39m.\u001b[39mpath\u001b[39m.\u001b[39mabspath(\u001b[39m\"\u001b[39m\u001b[39mcoco_train_m_1_False_matchdrill\u001b[39m\u001b[39m\"\u001b[39m)\n\u001b[1;32m      2\u001b[0m annotation \u001b[39m=\u001b[39m img_dir \u001b[39m+\u001b[39m \u001b[39m\"\u001b[39m\u001b[39m/annot.json\u001b[39m\u001b[39m\"\u001b[39m\n\u001b[1;32m      3\u001b[0m dataset \u001b[39m=\u001b[39m CocoDetection(root\u001b[39m=\u001b[39mimg_dir, annFile\u001b[39m=\u001b[39mannotation)\n",
      "\u001b[0;31mNameError\u001b[0m: name 'os' is not defined"
     ]
    }
   ],
   "source": [
    "img_dir = os.path.abspath(\"coco_train_m_1_False_matchdrill\")\n",
    "annotation = img_dir + \"/annot.json\"\n",
    "dataset = CocoDetection(root=img_dir, annFile=annotation)\n",
    "img, target = dataset[5]"
   ]
  },
  {
   "cell_type": "code",
   "execution_count": null,
   "metadata": {},
   "outputs": [],
   "source": [
    "target"
   ]
  },
  {
   "cell_type": "code",
   "execution_count": null,
   "metadata": {},
   "outputs": [],
   "source": [
    "x1 = target[0][\"bbox\"][0]\n",
    "y1 = target[0][\"bbox\"][1]\n",
    "x2 = x1+target[0][\"bbox\"][2]\n",
    "y2 = y1+target[0][\"bbox\"][3]\n",
    "\n",
    "display_img = cv2.rectangle(np.array(img), (x1, y1), (x2, y2), (255, 0, 0), 2)\n",
    "F.to_pil_image(display_img)"
   ]
  },
  {
   "cell_type": "markdown",
   "metadata": {},
   "source": [
    "### Prepare detector"
   ]
  },
  {
   "cell_type": "markdown",
   "metadata": {},
   "source": [
    "Load pretrained model"
   ]
  },
  {
   "cell_type": "code",
   "execution_count": null,
   "metadata": {},
   "outputs": [],
   "source": [
    "model = torch.hub.load('ultralytics/yolov5', 'yolov5s', pretrained=True)"
   ]
  },
  {
   "cell_type": "markdown",
   "metadata": {},
   "source": [
    "Perform inference for one test image"
   ]
  },
  {
   "cell_type": "code",
   "execution_count": null,
   "metadata": {},
   "outputs": [],
   "source": [
    "result = model(img)"
   ]
  },
  {
   "cell_type": "code",
   "execution_count": null,
   "metadata": {},
   "outputs": [],
   "source": [
    "result.show()"
   ]
  },
  {
   "cell_type": "code",
   "execution_count": null,
   "metadata": {},
   "outputs": [],
   "source": [
    "result.pandas().xyxy[0] "
   ]
  },
  {
   "cell_type": "markdown",
   "metadata": {},
   "source": [
    "### Evaluate mAP"
   ]
  },
  {
   "cell_type": "markdown",
   "metadata": {},
   "source": [
    "Perform inference on dataset and convert to coco style results"
   ]
  },
  {
   "cell_type": "code",
   "execution_count": null,
   "metadata": {
    "scrolled": true
   },
   "outputs": [],
   "source": [
    "call_list = np.arange(1,50).tolist()\n",
    "im_id_list = []\n",
    "preds = []\n",
    "\n",
    "for call_no in call_list:\n",
    "    print(call_no)\n",
    "\n",
    "    img, target = dataset[call_no]\n",
    "    im_id_list.append(target[0]['image_id'])\n",
    "    \n",
    "    result = model(img)\n",
    "    detections = result.xyxy[0]  # Batch size of 1\n",
    "    if len(detections)>0:\n",
    "        for detect in detections:  # [x_min, y_min, x_max, y_max, score, class]\n",
    "            scores = detect[4].tolist()\n",
    "            \n",
    "            boxes = detect[0:4].type(torch.int64).tolist()\n",
    "            # from xyxy to xywh\n",
    "            boxes[2] = boxes[2]-boxes[0]\n",
    "            boxes[3] = boxes[3]-boxes[1]\n",
    "            \n",
    "            labels = detect[5].type(torch.int64).tolist()\n",
    "            \n",
    "            # Consider only ball detections\n",
    "            if labels == 32:\n",
    "                labels = 1  # Convert standard coco to custom coco\n",
    "            else:\n",
    "                continue\n",
    "            \n",
    "            preds.append(\n",
    "                dict(\n",
    "                    image_id = target[0]['image_id'],\n",
    "                    category_id=labels,\n",
    "                    bbox=boxes,\n",
    "                    score=round(scores,3),\n",
    "                )\n",
    "            )"
   ]
  },
  {
   "cell_type": "markdown",
   "metadata": {},
   "source": [
    "Save results"
   ]
  },
  {
   "cell_type": "code",
   "execution_count": null,
   "metadata": {},
   "outputs": [],
   "source": [
    "resFile = \"./detection_cocoresults.json\"\n",
    "with open(resFile, 'w') as out_file:\n",
    "    json.dump(preds, out_file)"
   ]
  },
  {
   "cell_type": "markdown",
   "metadata": {},
   "source": [
    "Load ground truth annotations and predictions"
   ]
  },
  {
   "cell_type": "code",
   "execution_count": null,
   "metadata": {},
   "outputs": [],
   "source": [
    "cocoGt = COCO(annotation)"
   ]
  },
  {
   "cell_type": "code",
   "execution_count": null,
   "metadata": {},
   "outputs": [],
   "source": [
    "cocoDt = cocoGt.loadRes(resFile)"
   ]
  },
  {
   "cell_type": "markdown",
   "metadata": {},
   "source": [
    "Prepare evaluation function"
   ]
  },
  {
   "cell_type": "code",
   "execution_count": null,
   "metadata": {},
   "outputs": [],
   "source": [
    "cocoEval = COCOeval(cocoGt=cocoGt, cocoDt=cocoDt, iouType='bbox')\n",
    "cocoEval.params.imgIds  = im_id_list\n",
    "cocoEval.params.useCats = True\n",
    "cocoEval.params.catIds = 1"
   ]
  },
  {
   "cell_type": "markdown",
   "metadata": {},
   "source": [
    "Compute mAP scores"
   ]
  },
  {
   "cell_type": "code",
   "execution_count": null,
   "metadata": {
    "scrolled": true
   },
   "outputs": [],
   "source": [
    "cocoEval.evaluate()\n",
    "cocoEval.accumulate()\n",
    "cocoEval.summarize()"
   ]
  }
 ],
 "metadata": {
  "accelerator": "GPU",
  "colab": {
   "name": "yolo.ipynb",
   "provenance": []
  },
  "kernelspec": {
   "display_name": "Python 3 (ipykernel)",
   "language": "python",
   "name": "python3"
  },
  "language_info": {
   "codemirror_mode": {
    "name": "ipython",
    "version": 3
   },
   "file_extension": ".py",
   "mimetype": "text/x-python",
   "name": "python",
   "nbconvert_exporter": "python",
   "pygments_lexer": "ipython3",
   "version": "3.11.2"
  }
 },
 "nbformat": 4,
 "nbformat_minor": 1
}
